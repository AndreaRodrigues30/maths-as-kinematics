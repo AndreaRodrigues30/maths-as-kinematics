{
 "cells": [
  {
   "cell_type": "markdown",
   "metadata": {
    "slideshow": {
     "slide_type": "slide"
    }
   },
   "source": [
    "## Constant acceleration\n",
    "\n",
    "For this section of the course we will assume a constant *vector* acceleration, $a$, in a straight line.\n",
    "\n",
    "Mostly we will be considering vector quantities, *velocity* and *displacement* as opposed to scalar *speed* and *distance*."
   ]
  },
  {
   "cell_type": "markdown",
   "metadata": {
    "slideshow": {
     "slide_type": "slide"
    }
   },
   "source": [
    "A rocket is travelling at $20ms^{-1}$. It accelerates at $2ms^{-2}$.\n",
    "\n",
    "What is the rocket's velocity after 5 seconds?\n",
    "\n",
    "How far has the rocket travelled in this time?"
   ]
  },
  {
   "cell_type": "markdown",
   "metadata": {
    "slideshow": {
     "slide_type": "slide"
    }
   },
   "source": [
    "Acceleration is the rate of change of velocity so $a=\\dfrac{\\text{Change in velocity}}{\\text{Time taken}}=\\dfrac{v-u}{t}$\n",
    "\n",
    "This rearranges to $$v-u=at$$\n",
    "\n",
    "That makes intuitive sense: the velocity starts at $u$ and increases (or decreases) by $a$ every second until it gets to $v$.\n",
    "\n",
    "So our rocket will accelerate from $20\\text{ms}^{-1}$ to $30\\text{ms}^{-1}$. But how far will it have travelled?"
   ]
  },
  {
   "cell_type": "code",
   "execution_count": null,
   "metadata": {
    "hide_input": false,
    "scrolled": true,
    "slideshow": {
     "slide_type": "skip"
    }
   },
   "outputs": [],
   "source": [
    "import matplotlib.pyplot as plt\n",
    "import numpy as np"
   ]
  },
  {
   "cell_type": "code",
   "execution_count": null,
   "metadata": {
    "hide_input": false,
    "slideshow": {
     "slide_type": "skip"
    }
   },
   "outputs": [],
   "source": [
    "# Initial velocity\n",
    "u = 20\n",
    "# Acceleration\n",
    "a = 2\n",
    "# One hundred times between 0 and 5s\n",
    "t = np.linspace(0,5,100)"
   ]
  },
  {
   "cell_type": "code",
   "execution_count": null,
   "metadata": {
    "hide_input": false,
    "scrolled": false,
    "slideshow": {
     "slide_type": "slide"
    }
   },
   "outputs": [],
   "source": [
    "fig, ax = plt.subplots()\n",
    "\n",
    "ax.set_ylabel(\"Velocity\")\n",
    "ax.set_xlabel(\"Time\")\n",
    "ax.set_ylim(0,30)\n",
    "\n",
    "ax.spines[\"left\"].set_position('zero')\n",
    "ax.spines[\"bottom\"].set_position('zero')\n",
    "ax.spines[\"top\"].set_visible(False)\n",
    "ax.spines[\"right\"].set_visible(False)\n",
    "\n",
    "ax.fill_between(t,0,u, facecolor=\"red\")\n",
    "ax.fill_between(t,u,u+a*t, facecolor=\"blue\");"
   ]
  },
  {
   "cell_type": "markdown",
   "metadata": {
    "slideshow": {
     "slide_type": "fragment"
    }
   },
   "source": [
    "If the rocket had not accelerated, it would have covered $100\\text{m}$, the red area above. We'll need to add on that blue area too."
   ]
  },
  {
   "cell_type": "markdown",
   "metadata": {
    "slideshow": {
     "slide_type": "fragment"
    }
   },
   "source": [
    "In this diagram, $s=\\color{red}{Red}+\\color{blue}{Blue}=\\color{red}{ut}+\\color{blue}{\\frac{1}{2}(v-u)t}$\n",
    "\n",
    "But $v-u=at$ so this becomes $s=ut+\\frac{1}{2}at^2=100+\\frac{1}{2}2\\times5^2=125\\text{m}$"
   ]
  },
  {
   "cell_type": "markdown",
   "metadata": {
    "slideshow": {
     "slide_type": "subslide"
    }
   },
   "source": [
    "Alternatively, $s=vt-\\color{green}{Green}=vt-\\color{green}{\\frac{1}{2}(v-u)t}$\n",
    "\n",
    "Hence $s=vt-\\frac{1}{2}at^2=150-\\frac{1}{2}2\\times5^2=125\\text{m}$"
   ]
  },
  {
   "cell_type": "code",
   "execution_count": null,
   "metadata": {
    "hide_input": false,
    "slideshow": {
     "slide_type": "-"
    }
   },
   "outputs": [],
   "source": [
    "fig, ax = plt.subplots()\n",
    "ax.set_xlim(0,5)\n",
    "ax.set_ylim(0,30)\n",
    "ax.spines[\"left\"].set_position('zero')\n",
    "ax.spines[\"bottom\"].set_position('zero')\n",
    "ax.spines[\"top\"].set_visible(False)\n",
    "ax.spines[\"right\"].set_visible(False)\n",
    "\n",
    "\n",
    "ax.fill_between(t,0,u+a*t, facecolor=\"green\",alpha=0.8)\n",
    "ax.fill_between(t,u+a*t, 30, facecolor=\"black\");\n"
   ]
  },
  {
   "cell_type": "code",
   "execution_count": null,
   "metadata": {
    "hide_input": true,
    "scrolled": true,
    "slideshow": {
     "slide_type": "subslide"
    }
   },
   "outputs": [],
   "source": [
    "%%tikz\n",
    "\\draw (0,0) -- (2,0);\n",
    "\\draw (0,0) -- (0,2);\n",
    "\\node[anchor=east] at (0,1) (u) {u};\n",
    "\\node[anchor=east] at (0,2) (v) {v};\n",
    "\\node[anchor=north] at (2,0) (t) {t};\n",
    "\\draw (0,1) -- (2,2);\n",
    "\\draw (0,1) -- (2,1);\n",
    "\\draw (0,2) -- (2,2);\n",
    "\\draw (2,0) -- (2,2);\n",
    "\\fill[color=blue] (0,0) -- (0,1) -- (2,1) -- (2,0);\n",
    "\\fill[color=blue] (0,1) -- (2,1) -- (2,2);"
   ]
  },
  {
   "cell_type": "markdown",
   "metadata": {
    "slideshow": {
     "slide_type": "fragment"
    }
   },
   "source": [
    "A third possibility is $s=\\color{blue}{Blue\\,trapezium}=\\dfrac{u+v}{2}t=\\dfrac{20+30}{2}\\times5=125\\text{m}$"
   ]
  },
  {
   "cell_type": "code",
   "execution_count": null,
   "metadata": {
    "hide_input": false,
    "slideshow": {
     "slide_type": "-"
    }
   },
   "outputs": [],
   "source": [
    "fig, ax = plt.subplots()\n",
    "ax.set_ylim(0,30)\n",
    "ax.spines[\"left\"].set_position('zero')\n",
    "ax.spines[\"bottom\"].set_position('zero')\n",
    "ax.spines[\"top\"].set_visible(False)\n",
    "ax.spines[\"right\"].set_visible(False)\n",
    "\n",
    "ax.plot(t,u+a*t,c=\"blue\")\n",
    "ax.fill_between(t,0,u+a*t,facecolor=\"blue\");"
   ]
  },
  {
   "cell_type": "markdown",
   "metadata": {
    "slideshow": {
     "slide_type": "subslide"
    }
   },
   "source": [
    "So far we have\n",
    "\n",
    "$\\begin{aligned}\n",
    "v&=u+at\\\\\n",
    "s&=\\dfrac{u+v}{2}t\\\\\n",
    "s&=ut+\\frac{1}{2}at^2\\\\\n",
    "s&=vt-\\frac{1}{2}at^2\n",
    "\\end{aligned}$"
   ]
  },
  {
   "cell_type": "markdown",
   "metadata": {
    "slideshow": {
     "slide_type": "fragment"
    }
   },
   "source": [
    "Each of these has four of the five unknowns. There should be a fifth equation, one that doesn't involve $t$."
   ]
  },
  {
   "cell_type": "markdown",
   "metadata": {
    "slideshow": {
     "slide_type": "subslide"
    }
   },
   "source": [
    "The easiest pair to eliminate $t$ from are $\\begin{cases}v=u+at\\\\s=\\dfrac{u+v}{2}t\\end{cases}$"
   ]
  },
  {
   "cell_type": "markdown",
   "metadata": {
    "slideshow": {
     "slide_type": "fragment"
    }
   },
   "source": [
    "$\\begin{cases}t=\\dfrac{v-u}{a}\\\\\\\\t=\\dfrac{2s}{u+v}\\end{cases} \\dfrac{v-u}{a}=\\dfrac{2s}{u+v}\\implies v^2-u^2=2as$\n",
    "\n",
    "This is usually written $v^2=u^2+2as$"
   ]
  },
  {
   "cell_type": "markdown",
   "metadata": {
    "slideshow": {
     "slide_type": "subslide"
    }
   },
   "source": [
    "Finally then, we have five equations, each involving four of the variables\n",
    "\n",
    "$\\begin{aligned}\n",
    "v&=u+at\\\\\n",
    "s&=\\dfrac{u+v}{2}t\\\\\n",
    "s&=ut+\\frac{1}{2}at^2\\\\\n",
    "s&=vt-\\frac{1}{2}at^2\\\\\n",
    "v^2&=u^2+2as\n",
    "\\end{aligned}$"
   ]
  },
  {
   "cell_type": "code",
   "execution_count": null,
   "metadata": {
    "slideshow": {
     "slide_type": "skip"
    }
   },
   "outputs": [],
   "source": [
    "from sympy import *\n",
    "s,u,v,a,t,x,y = symbols('s u v a t x y')\n",
    "init_printing()"
   ]
  },
  {
   "cell_type": "markdown",
   "metadata": {
    "slideshow": {
     "slide_type": "slide"
    }
   },
   "source": [
    "## Random `suvat` question generator"
   ]
  },
  {
   "cell_type": "code",
   "execution_count": null,
   "metadata": {
    "hide_input": true,
    "scrolled": true,
    "slideshow": {
     "slide_type": "-"
    }
   },
   "outputs": [],
   "source": [
    "u = np.random.choice([-3,-2,-1,1,2,3,4,5])\n",
    "t = np.random.choice([1,2,2,3,4,5,8,12,15,20,30,45])\n",
    "a = np.random.choice([-3,-2,-1,1,2,3,5,-9.8,10])\n",
    "s = u*t+0.5*a*t**2\n",
    "v = u+a*t\n",
    "variables = {\"u\": u,\n",
    "            \"v\": v,\n",
    "            \"a\": a,\n",
    "            \"s\": s,\n",
    "            \"t\": t}\n",
    "given = np.random.choice(list(variables.keys()),size=4,replace=False)\n",
    "for variable in given[:-1]:\n",
    "    print(\"{}={}\".format(variable,variables[variable]))\n",
    "print(\"Find {}\".format(given[-1]))"
   ]
  },
  {
   "cell_type": "code",
   "execution_count": null,
   "metadata": {
    "hide_input": true,
    "scrolled": true,
    "slideshow": {
     "slide_type": "subslide"
    }
   },
   "outputs": [],
   "source": [
    "print(\"{}={}\".format(given[-1],variables[given[-1]]))"
   ]
  },
  {
   "cell_type": "markdown",
   "metadata": {
    "slideshow": {
     "slide_type": "slide"
    }
   },
   "source": [
    "## Constant acceleration\n",
    "\n",
    ">Prosecutor: \"Although I accept that you left the traffic lights at rest, you were snapped by the camera doing $133kmh^{−1}$, which is found at a distance of $338$ metres from the traffic lights. I claim that this is ample distance to reach the speed shown on the ticket.\"\n",
    ">\n",
    ">Defendant: \"But the specifications in the manual of my cheap car show that the maximum acceleration is $0$ to $96kmh^{−1}$ in $10.5s$. I could never have accelerated to such a high speed in such a short distance!\"\n",
    ">\n",
    ">Analyse this case carefully. Could the penalty reasonably be rejected on mathematical grounds?"
   ]
  }
 ],
 "metadata": {
  "celltoolbar": "Slideshow",
  "hide_input": false,
  "kernelspec": {
   "display_name": "Python 3",
   "language": "python",
   "name": "python3"
  },
  "language_info": {
   "codemirror_mode": {
    "name": "ipython",
    "version": 3
   },
   "file_extension": ".py",
   "mimetype": "text/x-python",
   "name": "python",
   "nbconvert_exporter": "python",
   "pygments_lexer": "ipython3",
   "version": "3.6.6"
  },
  "livereveal": {
   "theme": "ada"
  }
 },
 "nbformat": 4,
 "nbformat_minor": 1
}
