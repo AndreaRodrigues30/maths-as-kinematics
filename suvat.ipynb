{
 "cells": [
  {
   "cell_type": "code",
   "execution_count": 8,
   "metadata": {
    "slideshow": {
     "slide_type": "skip"
    }
   },
   "outputs": [],
   "source": [
    "from sympy import *\n",
    "s,u,v,a,t,x,y = symbols('s u v a t x y')\n",
    "init_printing()\n",
    "%matplotlib inline"
   ]
  },
  {
   "cell_type": "markdown",
   "metadata": {
    "slideshow": {
     "slide_type": "slide"
    }
   },
   "source": [
    "## Constant acceleration\n",
    "\n",
    ">Prosecutor: \"Although I accept that you left the traffic lights at rest, you were snapped by the camera doing $133kmh^{−1}$, which is found at a distance of $338$ metres from the traffic lights. I claim that this is ample distance to reach the speed shown on the ticket.\"\n",
    ">\n",
    ">Defendant: \"But the specifications in the manual of my cheap car show that the maximum acceleration is $0$ to $96kmh^{−1}$ in $10.5s$. I could never have accelerated to such a high speed in such a short distance!\"\n",
    ">\n",
    ">Analyse this case carefully. Could the penalty reasonably be rejected on mathematical grounds?"
   ]
  },
  {
   "cell_type": "markdown",
   "metadata": {
    "slideshow": {
     "slide_type": "slide"
    }
   },
   "source": [
    "### Recall: vectors versus scalars\n",
    "\n",
    "For this section of the course we will assume a constant *vector* acceleration, $a$, in a straight line.\n",
    "\n",
    "Mostly we will be considering vector quantities, *velocity* and *displacement* as opposed to scalar *speed* and *distance*."
   ]
  },
  {
   "cell_type": "markdown",
   "metadata": {
    "slideshow": {
     "slide_type": "slide"
    }
   },
   "source": [
    "A rocket is travelling at $20ms^{-1}$. It then accelerates at $2ms^{-2}$.\n",
    "\n",
    "What is the rocket's velocity after 5 seconds?\n",
    "\n",
    "How far has the rocket travelled in this time?"
   ]
  },
  {
   "cell_type": "markdown",
   "metadata": {
    "slideshow": {
     "slide_type": "slide"
    }
   },
   "source": [
    "Acceleration is the rate of change of velocity so $a=\\dfrac{\\text{Change in velocity}}{\\text{Time taken}}=\\dfrac{v-u}{t}$\n",
    "\n",
    "This rearranges to $$v=u+at$$\n",
    "\n",
    "That makes intuitive sense: the velocity starts at $u$ and increases (or decreases) by $a$ every second."
   ]
  },
  {
   "cell_type": "code",
   "execution_count": 10,
   "metadata": {
    "hide_input": false,
    "slideshow": {
     "slide_type": "skip"
    }
   },
   "outputs": [],
   "source": [
    "u = 20\n",
    "a = 2\n",
    "t = 5"
   ]
  },
  {
   "cell_type": "code",
   "execution_count": 11,
   "metadata": {
    "hide_input": true,
    "slideshow": {
     "slide_type": "slide"
    }
   },
   "outputs": [
    {
     "data": {
      "image/png": "[encoded data removed]",
      "text/plain": [
       "<matplotlib.figure.Figure at 0x7f2925df05f8>"
      ]
     },
     "metadata": {},
     "output_type": "display_data"
    }
   ],
   "source": [
    "p = plot(u+a*x,u,u+a*t,xlim=(0,t),ylim=(0,u+a*t),xlabel=\"time, t\",ylabel=\"velocity, v\",show=False)\n",
    "p[1].line_color='red'\n",
    "p[2].line_color='green'\n",
    "p.show();"
   ]
  },
  {
   "cell_type": "code",
   "execution_count": null,
   "metadata": {
    "hide_input": true,
    "scrolled": true,
    "slideshow": {
     "slide_type": "skip"
    }
   },
   "outputs": [],
   "source": [
    "%load_ext tikzmagic"
   ]
  },
  {
   "cell_type": "code",
   "execution_count": 7,
   "metadata": {
    "hide_input": true,
    "scrolled": false,
    "slideshow": {
     "slide_type": "subslide"
    }
   },
   "outputs": [
    {
     "data": {
      "image/png": "[encoded data removed]"
     },
     "metadata": {},
     "output_type": "display_data"
    }
   ],
   "source": [
    "%%tikz\n",
    "\n",
    "\\draw (0,0) -- (2,0);\n",
    "\\draw (0,0) -- (0,2);\n",
    "\\node[anchor=east] at (0,1) (u) {u};\n",
    "\\node[anchor=east] at (0,2) (v) {v};\n",
    "\\node[anchor=north] at (2,0) (t) {t};\n",
    "\\draw (0,1) -- (2,2);\n",
    "\\draw (0,1) -- (2,1);\n",
    "\\draw (0,2) -- (2,2);\n",
    "\\draw (2,0) -- (2,2);\n",
    "\\fill[color=red] (0,0) -- (0,1) -- (2,1) -- (2,0);\n",
    "\\fill[color=blue] (0,1) -- (2,1) -- (2,2);\n",
    "\\fill[color=green] (0,1) -- (0,2) -- (2,2);"
   ]
  },
  {
   "cell_type": "markdown",
   "metadata": {
    "slideshow": {
     "slide_type": "fragment"
    }
   },
   "source": [
    "In this diagram, $s=\\color{red}{Red}+\\color{blue}{Blue}=\\color{red}{ut}+\\color{blue}{\\frac{1}{2}(v-u)t}$\n",
    "\n",
    "But $v-u=at$ so this becomes $s=ut+\\frac{1}{2}at^2$"
   ]
  },
  {
   "cell_type": "markdown",
   "metadata": {
    "slideshow": {
     "slide_type": "subslide"
    }
   },
   "source": [
    "Alternatively, $s=vt-\\color{green}{Green}=vt-\\color{green}{\\frac{1}{2}(v-u)t}$\n",
    "\n",
    "Hence $s=vt-\\frac{1}{2}at^2$"
   ]
  },
  {
   "cell_type": "code",
   "execution_count": 12,
   "metadata": {
    "hide_input": true,
    "scrolled": true,
    "slideshow": {
     "slide_type": "subslide"
    }
   },
   "outputs": [
    {
     "data": {
      "image/png": "[encoded data removed]"
     },
     "metadata": {},
     "output_type": "display_data"
    }
   ],
   "source": [
    "%%tikz\n",
    "\\draw (0,0) -- (2,0);\n",
    "\\draw (0,0) -- (0,2);\n",
    "\\node[anchor=east] at (0,1) (u) {u};\n",
    "\\node[anchor=east] at (0,2) (v) {v};\n",
    "\\node[anchor=north] at (2,0) (t) {t};\n",
    "\\draw (0,1) -- (2,2);\n",
    "\\draw (0,1) -- (2,1);\n",
    "\\draw (0,2) -- (2,2);\n",
    "\\draw (2,0) -- (2,2);\n",
    "\\fill[color=blue] (0,0) -- (0,1) -- (2,1) -- (2,0);\n",
    "\\fill[color=blue] (0,1) -- (2,1) -- (2,2);"
   ]
  },
  {
   "cell_type": "markdown",
   "metadata": {
    "slideshow": {
     "slide_type": "fragment"
    }
   },
   "source": [
    "A third possibility is $s=\\color{blue}{Blue\\,trapezium}=\\dfrac{u+v}{2}t$"
   ]
  },
  {
   "cell_type": "markdown",
   "metadata": {
    "slideshow": {
     "slide_type": "subslide"
    }
   },
   "source": [
    "So far we have\n",
    "\n",
    "$\\begin{aligned}\n",
    "v&=u+at\\\\\n",
    "s&=\\dfrac{u+v}{2}t\\\\\n",
    "s&=ut+\\frac{1}{2}at^2\\\\\n",
    "s&=vt-\\frac{1}{2}at^2\n",
    "\\end{aligned}$"
   ]
  },
  {
   "cell_type": "markdown",
   "metadata": {
    "slideshow": {
     "slide_type": "fragment"
    }
   },
   "source": [
    "Each of these has four of the five unknowns. There should be a fifth equation, one that doesn't involve $t$."
   ]
  },
  {
   "cell_type": "markdown",
   "metadata": {
    "slideshow": {
     "slide_type": "subslide"
    }
   },
   "source": [
    "The easiest pair to eliminate $t$ from are $\\begin{cases}v=u+at\\\\s=\\dfrac{u+v}{2}t\\end{cases}$"
   ]
  },
  {
   "cell_type": "markdown",
   "metadata": {
    "slideshow": {
     "slide_type": "fragment"
    }
   },
   "source": [
    "$\\begin{cases}t=\\dfrac{v-u}{a}\\\\\\\\t=\\dfrac{2s}{u+v}\\end{cases} \\dfrac{v-u}{a}=\\dfrac{2s}{u+v}\\implies v^2-u^2=2as$\n",
    "\n",
    "This is usually written $v^2=u^2+2as$"
   ]
  },
  {
   "cell_type": "markdown",
   "metadata": {
    "slideshow": {
     "slide_type": "subslide"
    }
   },
   "source": [
    "Finally then, we have five equations, each involving four of the variables\n",
    "\n",
    "$\\begin{aligned}\n",
    "v&=u+at\\\\\n",
    "s&=\\dfrac{u+v}{2}t\\\\\n",
    "s&=ut+\\frac{1}{2}at^2\\\\\n",
    "s&=vt-\\frac{1}{2}at^2\\\\\n",
    "v^2&=u^2+2as\n",
    "\\end{aligned}$"
   ]
  },
  {
   "cell_type": "code",
   "execution_count": 14,
   "metadata": {
    "slideshow": {
     "slide_type": "skip"
    }
   },
   "outputs": [],
   "source": [
    "import numpy as np"
   ]
  },
  {
   "cell_type": "markdown",
   "metadata": {
    "slideshow": {
     "slide_type": "slide"
    }
   },
   "source": [
    "## Random `suvat` question generator"
   ]
  },
  {
   "cell_type": "code",
   "execution_count": 15,
   "metadata": {
    "hide_input": true,
    "slideshow": {
     "slide_type": "-"
    }
   },
   "outputs": [
    {
     "name": "stdout",
     "output_type": "stream",
     "text": [
      "t=2\n",
      "s=-2.0\n",
      "v=0.0\n",
      "Find a\n"
     ]
    }
   ],
   "source": [
    "u = np.random.choice([-3,-2,-1,1,2,3,4,5])\n",
    "t = np.random.choice([1,2,2,3,4,5,8,12,15,20,30,45])\n",
    "a = np.random.choice([-3,-2,-1,1,2,3,5,-9.8,10])\n",
    "s = u*t+0.5*a*t**2\n",
    "v = u+a*t\n",
    "variables = {\"u\": u,\n",
    "            \"v\": v,\n",
    "            \"a\": a,\n",
    "            \"s\": s,\n",
    "            \"t\": t}\n",
    "given = np.random.choice(list(variables.keys()),size=4,replace=False)\n",
    "for variable in given[:-1]:\n",
    "    print(\"{}={}\".format(variable,variables[variable]))\n",
    "print(\"Find {}\".format(given[-1]))"
   ]
  }
 ],
 "metadata": {
  "celltoolbar": "Slideshow",
  "hide_input": false,
  "kernelspec": {
   "display_name": "Python 3",
   "language": "python",
   "name": "python3"
  },
  "language_info": {
   "codemirror_mode": {
    "name": "ipython",
    "version": 3
   },
   "file_extension": ".py",
   "mimetype": "text/x-python",
   "name": "python",
   "nbconvert_exporter": "python",
   "pygments_lexer": "ipython3",
   "version": "3.5.2"
  },
  "livereveal": {
   "theme": "ada"
  }
 },
 "nbformat": 4,
 "nbformat_minor": 1
}
